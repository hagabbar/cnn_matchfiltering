{
 "cells": [
  {
   "cell_type": "code",
   "execution_count": 19,
   "metadata": {},
   "outputs": [],
   "source": [
    "import pickle\n",
    "import matplotlib.pyplot as plt\n"
   ]
  },
  {
   "cell_type": "code",
   "execution_count": 25,
   "metadata": {},
   "outputs": [],
   "source": [
    "# download chi and rho data\n",
    "signals = []\n",
    "noise = []\n",
    "\n",
    "f_chi = open('results/full_bank_snr10/ts_0/chirho_values.pickle', 'r')\n",
    "chi = pickle.load(f_chi)\n",
    "f_rho = open('results/full_bank_snr10/ts_0/rho_values.pickle', 'r')\n",
    "rho = pickle.load(f_rho)\n",
    "\n",
    "for idx, i in enumerate(rho[0]):\n",
    "    if rho[1][idx] == 0:\n",
    "        noise.append(i)\n",
    "    if rho[1][idx] == 1:\n",
    "        signals.append(i)\n"
   ]
  },
  {
   "cell_type": "code",
   "execution_count": 23,
   "metadata": {},
   "outputs": [],
   "source": [
    "# download chi and rho data\n",
    "signals = []\n",
    "noise = []\n",
    "\n",
    "f_chi = open('results/testing/snr6_4000_samples/chirho_values.pickle', 'r')\n",
    "chi = pickle.load(f_chi)\n",
    "f_rho = open('results/testing/snr6_4000_samples/rho_values.pickle', 'r')\n",
    "rho = pickle.load(f_rho)\n",
    "\n",
    "for idx, i in enumerate(rho[0]):\n",
    "    if rho[1][idx] == 0:\n",
    "        noise.append(i)\n",
    "    if rho[1][idx] == 1:\n",
    "        signals.append(i)"
   ]
  },
  {
   "cell_type": "code",
   "execution_count": 24,
   "metadata": {},
   "outputs": [
    {
     "data": {
      "image/png": "[encoded data removed]",
      "text/plain": [
       "<matplotlib.figure.Figure at 0x7f7ffc22ac10>"
      ]
     },
     "metadata": {},
     "output_type": "display_data"
    }
   ],
   "source": [
    "plt.hist(chi[0], bins=100, normed=True, label='Chi_noise', alpha=0.5)\n",
    "plt.hist(noise, bins=100, normed=True, label='noise', alpha=0.5)\n",
    "plt.hist(signals, bins=100, normed=True, label='signal', alpha=0.5)\n",
    "plt.xlabel('SNR')\n",
    "plt.title('4000 signals/noise')\n",
    "plt.grid(True)\n",
    "plt.show()\n",
    "plt.close()"
   ]
  },
  {
   "cell_type": "code",
   "execution_count": 27,
   "metadata": {},
   "outputs": [
    {
     "data": {
      "image/png": "[encoded data removed]",
      "text/plain": [
       "<matplotlib.figure.Figure at 0x7f7ffc45afd0>"
      ]
     },
     "metadata": {},
     "output_type": "display_data"
    }
   ],
   "source": [
    "plt.hist(chi[0], bins=100, normed=True, label='Chi_noise', alpha=0.5)\n",
    "plt.hist(noise, bins=100, normed=True, label='noise', alpha=0.5)\n",
    "plt.hist(signals, bins=100, normed=True, label='signal', alpha=0.5)\n",
    "plt.xlabel('SNR')\n",
    "plt.title('10000 signals/noise')\n",
    "plt.grid(True)\n",
    "plt.show()\n",
    "plt.close()"
   ]
  },
  {
   "cell_type": "code",
   "execution_count": null,
   "metadata": {},
   "outputs": [],
   "source": []
  }
 ],
 "metadata": {
  "kernelspec": {
   "display_name": "Python 2",
   "language": "python",
   "name": "python2"
  },
  "language_info": {
   "codemirror_mode": {
    "name": "ipython",
    "version": 2
   },
   "file_extension": ".py",
   "mimetype": "text/x-python",
   "name": "python",
   "nbconvert_exporter": "python",
   "pygments_lexer": "ipython2",
   "version": "2.7.12"
  }
 },
 "nbformat": 4,
 "nbformat_minor": 2
}
